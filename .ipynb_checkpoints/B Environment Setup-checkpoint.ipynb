{
 "cells": [
  {
   "cell_type": "markdown",
   "metadata": {},
   "source": [
    "# [CPSC 310](https://github.com/GonzagaCPSC310) Data Mining\n",
    "[Gonzaga University](https://www.gonzaga.edu/)\n",
    "\n",
    "[Gina Sprint](http://cs.gonzaga.edu/faculty/sprint/)\n",
    "\n",
    "# Environment Setup\n",
    "What are our learning objectives for this lesson?\n",
    "* Download and install the Anaconda Python distribution\n",
    "* Run a Python program on their own computer\n",
    "    * Interactive mode\n",
    "    * Scripting mode\n",
    "\n",
    "Content used in this lesson is based upon information in the following sources:\n",
    "* None to report"
   ]
  },
  {
   "cell_type": "markdown",
   "metadata": {
    "collapsed": true
   },
   "source": [
    "## Download/Install Anaconda\n",
    "Visit the [Anaconda downloads page](https://www.continuum.io/downloads) and download Anaconda v3.7 graphical installer for your operating system. Once the download is complete, run the installer. \n",
    "\n",
    "On a Mac machine, the graphical installer looks similar to this: \n",
    "<img src=\"https://raw.githubusercontent.com/GonzagaCPSC310/U0-Introduction/master/figures/anaconda_mac_installer.png\" width=\"500\">\n",
    "\n",
    "On a Windows machine, at the \"Advanced Options\" screen, make sure both check boxes are selected, as follows:\n",
    "![](https://raw.githubusercontent.com/gsprint23/aha/master/lessons/figures/anaconda_adv.png)\n",
    "\n",
    "At the \"Microsoft Visual Studio Code\" screen, install the Visual Studio Code editor.\n",
    "<img src=\"https://raw.githubusercontent.com/GonzagaCPSC310/U0-Introduction/master/figures/anaconda_install_vscode.png\" width=\"500\">\n",
    "\n",
    "You can uncheck the box to \"Learn more about Anaconda Cloud.\" We won't be using Anaconda Cloud in this class."
   ]
  },
  {
   "cell_type": "markdown",
   "metadata": {},
   "source": [
    "Test that your Python installation is complete and correct. To do this, open the [Anaconda Navigator](https://docs.continuum.io/anaconda/navigator.html) located in the Anaconda3 folder (on my Windows machine it is at C:\\ProgramData\\Microsoft\\Windows\\Start Menu\\Programs\\Anaconda3 (64-bit) and on my Mac it is at /Users/gsprint/anaconda3). You can also search your computer for \"Anaconda Navigator\" (on a Windows machine press the windows key and start typing, on a Mac its command key + space and start typing).\n",
    "![](https://raw.githubusercontent.com/gsprint23/aha/master/lessons/figures/anaconda_folder.png)\n",
    "\n",
    "Note: You may want to make desktop shortcuts for Anaconda Navigator, VS Code, and Jupyter Notebook.\n",
    "\n",
    "Anaconda Navigator should like this (note that Visual Studio Code has been installed):\n",
    "![](https://raw.githubusercontent.com/GonzagaCPSC310/U0-Introduction/master/figures/anaconda_navigator_dashboard.png)\n",
    "\n",
    "Try launching \"qtconsole\". Something like this program should pop up:\n",
    "<img src=\"https://raw.githubusercontent.com/GonzagaCPSC310/U0-Introduction/master/figures/qt_console.png\" width=\"500\">\n",
    "\n",
    "If it does, congrats! You successfully installed Python and Anaconda. You are ready to start developing Python code. You can try writing your first line of Python code if you want right now! In the open Jupyter QtConsole, type exactly the following:\n",
    "\n",
    "```\n",
    "print(\"Hello World!\")\n",
    "```\n",
    "\n",
    "And press enter. The text `Hello World!` will be displayed back."
   ]
  },
  {
   "cell_type": "markdown",
   "metadata": {},
   "source": [
    "## Execute Python Code\n",
    "Python code can be executed in *interactive* mode and in *scripting* mode. In interactive mode, Python code is entered/executed in a command prompt/console/terminal. In scripting mode, Python code in a source file (e.g. .py) file is executed as a program. \n",
    "\n",
    "We are going to perform the following steps to re-write the previous `\"Hello World!\"` program in *interactive* mode and again in *scripting* mode using VS Code and the command line.\n",
    "\n",
    "### Interactive Python\n",
    "1. Open the Qt Console and type `print(\"Hello World!\")` and press enter. You should see \"Hello World!\" echoed back out on the console. Congrats! You just wrote and executed your first line of Python code. We just executed this code in \"interactive\" mode.\n",
    "\n",
    "1. Let's explore some features of interactive Python. Type the following commands into the IPython shell and observe the output:\n",
    "    1. `help(print)`: You can type the name of any identifier between the parens of the `help()` command to learn more about the Python construct.\n",
    "    1. `pwd()`: Tells you the \"present working directory\" where Python is executing\n",
    "    1. `x = 5`: Declare a variable named `x` and assign it the value 5\n",
    "    1. `type(x)`: Returns the data type of the value stored in variable `x`. What is it?\n",
    "    1. `course_name = \"AHA\"`: Declare a variable named `course_name` and assigns it the string \"AHA\"\n",
    "    1. `type(course_name)`\n",
    "    1. `course_name.<tab>`: Type the variable name `course_name` and a dot. Then press tab. IPython will provide you with all of the available information and behaviors associated with this variable. We will learn much more about this information later in the course.\n",
    "    1. `course_name.upper()`: What does `upper()` do?\n",
    "    1. `dir()`: Lists the known objects (variables) in Python. Do you see your variable names?\n",
    "    \n",
    "### Scripting Python\n",
    "1. Open VS Code and create a new file.\n",
    "1. Type `print(\"Hello World!\")`\n",
    "1. Navigate to the menu bar. Select File -> Save As and select a folder to save your Python code files in. Name this file hello_world.py and save it in your newly made folder.\n",
    "1. Run the program! You can do this by pressing F5 on your keyboard or selecting Debug -> Start Debugging. The output of your code will be in the Terminal. Congrats! You just wrote and executed your first Python *script*.\n",
    "<img src=\"https://raw.githubusercontent.com/GonzagaCPSC310/U0-Introduction/master/figures/vscode_hello_world.png\">"
   ]
  }
 ],
 "metadata": {
  "anaconda-cloud": {},
  "kernelspec": {
   "display_name": "Python 3",
   "language": "python",
   "name": "python3"
  },
  "language_info": {
   "codemirror_mode": {
    "name": "ipython",
    "version": 3
   },
   "file_extension": ".py",
   "mimetype": "text/x-python",
   "name": "python",
   "nbconvert_exporter": "python",
   "pygments_lexer": "ipython3",
   "version": "3.7.1"
  }
 },
 "nbformat": 4,
 "nbformat_minor": 1
}
